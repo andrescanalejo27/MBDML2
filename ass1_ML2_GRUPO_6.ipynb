{
 "cells": [
  {
   "attachments": {},
   "cell_type": "markdown",
   "id": "f9b0debb",
   "metadata": {},
   "source": [
    "# TRABAJO 1: ENSEMBLE LEARNING | MACHINE LEARNING II\n",
    "## Feb 2023\n",
    "--- "
   ]
  },
  {
   "attachments": {},
   "cell_type": "markdown",
   "id": "ec06e9d7",
   "metadata": {},
   "source": [
    "### GRUPO: 6\n",
    "- Pablo Pérez Gonzalez-Alberto\n",
    "- Juan Miguel Ramos Pugnaire\n",
    "- Andrés Canalejo Oliva\n",
    "- Pablo Cardenal Real de Asúa"
   ]
  },
  {
   "attachments": {},
   "cell_type": "markdown",
   "id": "b4d68d7d",
   "metadata": {},
   "source": [
    "--- \n",
    "\n",
    "**IMPORTANTE:**\n",
    "- Asegúrate, fijando la semilla de los nº aleatorios según proceda, que si se vuelve a ejecutar el cuaderno los resultados son idénticos\n",
    "- Responde a las preguntas planteadas utilizando instrucciones \"print\" que permitan leer cómodamente como resultado de la ejecución de la celda el texto explicativo junto a las figuras o tablas a las que haga referencia (mira el ejemplo en la primera gráfica que se representa). También puedes usar markdown para responder.\n",
    "- No escribas líneas de código muy largas, tienes una regla para ayudarte a no hacerlo\n",
    "- No cambies la estructura del documento, respeta las secciones que ya existen\n"
   ]
  },
  {
   "attachments": {},
   "cell_type": "markdown",
   "id": "21c3c680-0f5a-4bd3-b36a-fbe8e14c4c63",
   "metadata": {
    "tags": []
   },
   "source": [
    "---\n",
    "Importamos todos los paquetes aquí por comodidad"
   ]
  },
  {
   "cell_type": "code",
   "execution_count": 1,
   "id": "38c25a79-17ab-40dc-9623-2d754e995e3e",
   "metadata": {
    "tags": []
   },
   "outputs": [],
   "source": [
    "#-------------------------- NO ESCRIBAS LÍNEAS DE CÓDIGO MÁS LARGAS QUE LO QUE OCUPA ESTA LÍNEA -----------------------------|\n",
    "import numpy as np\n",
    "import matplotlib.pyplot as plt\n",
    "import seaborn as sns\n",
    "import pandas as pd"
   ]
  },
  {
   "attachments": {},
   "cell_type": "markdown",
   "id": "d72fdb28-3578-481f-aa74-dfbfb90ff75d",
   "metadata": {
    "tags": []
   },
   "source": [
    "### 1. AJUSTE DE LOS MODELOS CON EL DATASET AJU_DATOS_DEM_C3"
   ]
  },
  {
   "attachments": {},
   "cell_type": "markdown",
   "id": "1c948753",
   "metadata": {},
   "source": [
    "Se trata de estimar la variable FESTIVO (1: el día es festivo) a partir de las variables disponibles en el dataset que se consideren oportunas. NO se pueden utilizar como variables de entrada: FECHA, DIA ni ANNO. La FECHA es interesante manejarla simplemente como ayuda para entender lo que esté pasando.\n",
    "\n",
    "Se deben ajustar diferentes modelos, buscando un buen compromiso entre la complejidad y el error en cada uno de ellos. El objetivo es conseguir un buen modelo con una gran capacidad de acierto en el futuro. Modelos que deben crearse, analizando los resultados de cada uno de ellos (errores e importancias de las variables):\n",
    "- Simple tree\n",
    "- Bagged  tree\n",
    "- Random Forest\n",
    "- Gradient boosting\n",
    "- Stacking"
   ]
  },
  {
   "attachments": {},
   "cell_type": "markdown",
   "id": "e5722610",
   "metadata": {},
   "source": [
    "Carga de datos"
   ]
  },
  {
   "cell_type": "code",
   "execution_count": 2,
   "id": "acea874d-ae44-4d38-8dc6-a58dbfd03e79",
   "metadata": {
    "tags": []
   },
   "outputs": [
    {
     "name": "stdout",
     "output_type": "stream",
     "text": [
      "Tamaño de df_orig con los datos cargados: (2879, 30)\n",
      "Dataframe con todos los datos leidos (filas: días, columnas: variables):\n"
     ]
    },
    {
     "data": {
      "text/html": [
       "<div>\n",
       "<style scoped>\n",
       "    .dataframe tbody tr th:only-of-type {\n",
       "        vertical-align: middle;\n",
       "    }\n",
       "\n",
       "    .dataframe tbody tr th {\n",
       "        vertical-align: top;\n",
       "    }\n",
       "\n",
       "    .dataframe thead th {\n",
       "        text-align: right;\n",
       "    }\n",
       "</style>\n",
       "<table border=\"1\" class=\"dataframe\">\n",
       "  <thead>\n",
       "    <tr style=\"text-align: right;\">\n",
       "      <th></th>\n",
       "      <th>FECHA</th>\n",
       "      <th>CR00</th>\n",
       "      <th>CR01</th>\n",
       "      <th>CR02</th>\n",
       "      <th>CR03</th>\n",
       "      <th>CR04</th>\n",
       "      <th>CR05</th>\n",
       "      <th>CR06</th>\n",
       "      <th>CR07</th>\n",
       "      <th>CR08</th>\n",
       "      <th>...</th>\n",
       "      <th>CR19</th>\n",
       "      <th>CR20</th>\n",
       "      <th>CR21</th>\n",
       "      <th>CR22</th>\n",
       "      <th>CR23</th>\n",
       "      <th>MES</th>\n",
       "      <th>DIASEM</th>\n",
       "      <th>FESTIVO</th>\n",
       "      <th>TMIN</th>\n",
       "      <th>TMAX</th>\n",
       "    </tr>\n",
       "  </thead>\n",
       "  <tbody>\n",
       "    <tr>\n",
       "      <th>0</th>\n",
       "      <td>2014-01-01</td>\n",
       "      <td>0.040942</td>\n",
       "      <td>0.038985</td>\n",
       "      <td>0.036382</td>\n",
       "      <td>0.034416</td>\n",
       "      <td>0.033409</td>\n",
       "      <td>0.033420</td>\n",
       "      <td>0.034054</td>\n",
       "      <td>0.034229</td>\n",
       "      <td>0.035889</td>\n",
       "      <td>...</td>\n",
       "      <td>0.055197</td>\n",
       "      <td>0.054185</td>\n",
       "      <td>0.051063</td>\n",
       "      <td>0.046240</td>\n",
       "      <td>0.041000</td>\n",
       "      <td>1</td>\n",
       "      <td>3</td>\n",
       "      <td>1</td>\n",
       "      <td>12.3</td>\n",
       "      <td>20.2</td>\n",
       "    </tr>\n",
       "    <tr>\n",
       "      <th>1</th>\n",
       "      <td>2014-01-02</td>\n",
       "      <td>0.033950</td>\n",
       "      <td>0.030996</td>\n",
       "      <td>0.029517</td>\n",
       "      <td>0.028966</td>\n",
       "      <td>0.029165</td>\n",
       "      <td>0.030150</td>\n",
       "      <td>0.032944</td>\n",
       "      <td>0.036510</td>\n",
       "      <td>0.041196</td>\n",
       "      <td>...</td>\n",
       "      <td>0.055820</td>\n",
       "      <td>0.054451</td>\n",
       "      <td>0.051482</td>\n",
       "      <td>0.046145</td>\n",
       "      <td>0.040880</td>\n",
       "      <td>1</td>\n",
       "      <td>4</td>\n",
       "      <td>0</td>\n",
       "      <td>12.0</td>\n",
       "      <td>20.1</td>\n",
       "    </tr>\n",
       "    <tr>\n",
       "      <th>2</th>\n",
       "      <td>2014-01-03</td>\n",
       "      <td>0.035463</td>\n",
       "      <td>0.032112</td>\n",
       "      <td>0.030292</td>\n",
       "      <td>0.029521</td>\n",
       "      <td>0.029450</td>\n",
       "      <td>0.030515</td>\n",
       "      <td>0.033188</td>\n",
       "      <td>0.036656</td>\n",
       "      <td>0.041052</td>\n",
       "      <td>...</td>\n",
       "      <td>0.055230</td>\n",
       "      <td>0.053520</td>\n",
       "      <td>0.050286</td>\n",
       "      <td>0.045412</td>\n",
       "      <td>0.040025</td>\n",
       "      <td>1</td>\n",
       "      <td>5</td>\n",
       "      <td>0</td>\n",
       "      <td>13.2</td>\n",
       "      <td>21.0</td>\n",
       "    </tr>\n",
       "    <tr>\n",
       "      <th>3</th>\n",
       "      <td>2014-01-04</td>\n",
       "      <td>0.035959</td>\n",
       "      <td>0.032772</td>\n",
       "      <td>0.031034</td>\n",
       "      <td>0.030178</td>\n",
       "      <td>0.030135</td>\n",
       "      <td>0.030782</td>\n",
       "      <td>0.032598</td>\n",
       "      <td>0.034982</td>\n",
       "      <td>0.039299</td>\n",
       "      <td>...</td>\n",
       "      <td>0.053757</td>\n",
       "      <td>0.052620</td>\n",
       "      <td>0.049973</td>\n",
       "      <td>0.044970</td>\n",
       "      <td>0.040386</td>\n",
       "      <td>1</td>\n",
       "      <td>6</td>\n",
       "      <td>0</td>\n",
       "      <td>14.4</td>\n",
       "      <td>23.4</td>\n",
       "    </tr>\n",
       "    <tr>\n",
       "      <th>4</th>\n",
       "      <td>2014-01-05</td>\n",
       "      <td>0.037506</td>\n",
       "      <td>0.034148</td>\n",
       "      <td>0.031878</td>\n",
       "      <td>0.031126</td>\n",
       "      <td>0.030930</td>\n",
       "      <td>0.031604</td>\n",
       "      <td>0.033066</td>\n",
       "      <td>0.034803</td>\n",
       "      <td>0.038758</td>\n",
       "      <td>...</td>\n",
       "      <td>0.052902</td>\n",
       "      <td>0.051481</td>\n",
       "      <td>0.049655</td>\n",
       "      <td>0.045730</td>\n",
       "      <td>0.040905</td>\n",
       "      <td>1</td>\n",
       "      <td>7</td>\n",
       "      <td>0</td>\n",
       "      <td>12.8</td>\n",
       "      <td>23.1</td>\n",
       "    </tr>\n",
       "    <tr>\n",
       "      <th>...</th>\n",
       "      <td>...</td>\n",
       "      <td>...</td>\n",
       "      <td>...</td>\n",
       "      <td>...</td>\n",
       "      <td>...</td>\n",
       "      <td>...</td>\n",
       "      <td>...</td>\n",
       "      <td>...</td>\n",
       "      <td>...</td>\n",
       "      <td>...</td>\n",
       "      <td>...</td>\n",
       "      <td>...</td>\n",
       "      <td>...</td>\n",
       "      <td>...</td>\n",
       "      <td>...</td>\n",
       "      <td>...</td>\n",
       "      <td>...</td>\n",
       "      <td>...</td>\n",
       "      <td>...</td>\n",
       "      <td>...</td>\n",
       "      <td>...</td>\n",
       "    </tr>\n",
       "    <tr>\n",
       "      <th>2874</th>\n",
       "      <td>2021-12-27</td>\n",
       "      <td>0.033180</td>\n",
       "      <td>0.031299</td>\n",
       "      <td>0.030173</td>\n",
       "      <td>0.029493</td>\n",
       "      <td>0.029649</td>\n",
       "      <td>0.030814</td>\n",
       "      <td>0.033925</td>\n",
       "      <td>0.037837</td>\n",
       "      <td>0.042098</td>\n",
       "      <td>...</td>\n",
       "      <td>0.051685</td>\n",
       "      <td>0.050563</td>\n",
       "      <td>0.047267</td>\n",
       "      <td>0.042237</td>\n",
       "      <td>0.037797</td>\n",
       "      <td>12</td>\n",
       "      <td>1</td>\n",
       "      <td>0</td>\n",
       "      <td>16.1</td>\n",
       "      <td>23.0</td>\n",
       "    </tr>\n",
       "    <tr>\n",
       "      <th>2875</th>\n",
       "      <td>2021-12-28</td>\n",
       "      <td>0.033823</td>\n",
       "      <td>0.031731</td>\n",
       "      <td>0.030385</td>\n",
       "      <td>0.029950</td>\n",
       "      <td>0.030017</td>\n",
       "      <td>0.031203</td>\n",
       "      <td>0.034708</td>\n",
       "      <td>0.038432</td>\n",
       "      <td>0.042645</td>\n",
       "      <td>...</td>\n",
       "      <td>0.051867</td>\n",
       "      <td>0.050971</td>\n",
       "      <td>0.047718</td>\n",
       "      <td>0.042585</td>\n",
       "      <td>0.037774</td>\n",
       "      <td>12</td>\n",
       "      <td>2</td>\n",
       "      <td>0</td>\n",
       "      <td>16.6</td>\n",
       "      <td>22.7</td>\n",
       "    </tr>\n",
       "    <tr>\n",
       "      <th>2876</th>\n",
       "      <td>2021-12-29</td>\n",
       "      <td>0.034475</td>\n",
       "      <td>0.032198</td>\n",
       "      <td>0.030902</td>\n",
       "      <td>0.030441</td>\n",
       "      <td>0.030384</td>\n",
       "      <td>0.031487</td>\n",
       "      <td>0.034454</td>\n",
       "      <td>0.038381</td>\n",
       "      <td>0.042850</td>\n",
       "      <td>...</td>\n",
       "      <td>0.052136</td>\n",
       "      <td>0.050604</td>\n",
       "      <td>0.046788</td>\n",
       "      <td>0.042033</td>\n",
       "      <td>0.037595</td>\n",
       "      <td>12</td>\n",
       "      <td>3</td>\n",
       "      <td>0</td>\n",
       "      <td>14.3</td>\n",
       "      <td>21.3</td>\n",
       "    </tr>\n",
       "    <tr>\n",
       "      <th>2877</th>\n",
       "      <td>2021-12-30</td>\n",
       "      <td>0.034345</td>\n",
       "      <td>0.031919</td>\n",
       "      <td>0.030524</td>\n",
       "      <td>0.029991</td>\n",
       "      <td>0.030087</td>\n",
       "      <td>0.031286</td>\n",
       "      <td>0.034384</td>\n",
       "      <td>0.038574</td>\n",
       "      <td>0.042778</td>\n",
       "      <td>...</td>\n",
       "      <td>0.052092</td>\n",
       "      <td>0.050993</td>\n",
       "      <td>0.047587</td>\n",
       "      <td>0.042807</td>\n",
       "      <td>0.038252</td>\n",
       "      <td>12</td>\n",
       "      <td>4</td>\n",
       "      <td>0</td>\n",
       "      <td>13.4</td>\n",
       "      <td>26.4</td>\n",
       "    </tr>\n",
       "    <tr>\n",
       "      <th>2878</th>\n",
       "      <td>2021-12-31</td>\n",
       "      <td>0.034436</td>\n",
       "      <td>0.032016</td>\n",
       "      <td>0.030717</td>\n",
       "      <td>0.030135</td>\n",
       "      <td>0.030156</td>\n",
       "      <td>0.030063</td>\n",
       "      <td>0.033062</td>\n",
       "      <td>0.036489</td>\n",
       "      <td>0.041408</td>\n",
       "      <td>...</td>\n",
       "      <td>0.054776</td>\n",
       "      <td>0.052648</td>\n",
       "      <td>0.047997</td>\n",
       "      <td>0.042389</td>\n",
       "      <td>0.038534</td>\n",
       "      <td>12</td>\n",
       "      <td>5</td>\n",
       "      <td>0</td>\n",
       "      <td>15.5</td>\n",
       "      <td>24.9</td>\n",
       "    </tr>\n",
       "  </tbody>\n",
       "</table>\n",
       "<p>2879 rows × 30 columns</p>\n",
       "</div>"
      ],
      "text/plain": [
       "           FECHA      CR00      CR01      CR02      CR03      CR04      CR05  \\\n",
       "0     2014-01-01  0.040942  0.038985  0.036382  0.034416  0.033409  0.033420   \n",
       "1     2014-01-02  0.033950  0.030996  0.029517  0.028966  0.029165  0.030150   \n",
       "2     2014-01-03  0.035463  0.032112  0.030292  0.029521  0.029450  0.030515   \n",
       "3     2014-01-04  0.035959  0.032772  0.031034  0.030178  0.030135  0.030782   \n",
       "4     2014-01-05  0.037506  0.034148  0.031878  0.031126  0.030930  0.031604   \n",
       "...          ...       ...       ...       ...       ...       ...       ...   \n",
       "2874  2021-12-27  0.033180  0.031299  0.030173  0.029493  0.029649  0.030814   \n",
       "2875  2021-12-28  0.033823  0.031731  0.030385  0.029950  0.030017  0.031203   \n",
       "2876  2021-12-29  0.034475  0.032198  0.030902  0.030441  0.030384  0.031487   \n",
       "2877  2021-12-30  0.034345  0.031919  0.030524  0.029991  0.030087  0.031286   \n",
       "2878  2021-12-31  0.034436  0.032016  0.030717  0.030135  0.030156  0.030063   \n",
       "\n",
       "          CR06      CR07      CR08  ...      CR19      CR20      CR21  \\\n",
       "0     0.034054  0.034229  0.035889  ...  0.055197  0.054185  0.051063   \n",
       "1     0.032944  0.036510  0.041196  ...  0.055820  0.054451  0.051482   \n",
       "2     0.033188  0.036656  0.041052  ...  0.055230  0.053520  0.050286   \n",
       "3     0.032598  0.034982  0.039299  ...  0.053757  0.052620  0.049973   \n",
       "4     0.033066  0.034803  0.038758  ...  0.052902  0.051481  0.049655   \n",
       "...        ...       ...       ...  ...       ...       ...       ...   \n",
       "2874  0.033925  0.037837  0.042098  ...  0.051685  0.050563  0.047267   \n",
       "2875  0.034708  0.038432  0.042645  ...  0.051867  0.050971  0.047718   \n",
       "2876  0.034454  0.038381  0.042850  ...  0.052136  0.050604  0.046788   \n",
       "2877  0.034384  0.038574  0.042778  ...  0.052092  0.050993  0.047587   \n",
       "2878  0.033062  0.036489  0.041408  ...  0.054776  0.052648  0.047997   \n",
       "\n",
       "          CR22      CR23  MES  DIASEM  FESTIVO  TMIN  TMAX  \n",
       "0     0.046240  0.041000    1       3        1  12.3  20.2  \n",
       "1     0.046145  0.040880    1       4        0  12.0  20.1  \n",
       "2     0.045412  0.040025    1       5        0  13.2  21.0  \n",
       "3     0.044970  0.040386    1       6        0  14.4  23.4  \n",
       "4     0.045730  0.040905    1       7        0  12.8  23.1  \n",
       "...        ...       ...  ...     ...      ...   ...   ...  \n",
       "2874  0.042237  0.037797   12       1        0  16.1  23.0  \n",
       "2875  0.042585  0.037774   12       2        0  16.6  22.7  \n",
       "2876  0.042033  0.037595   12       3        0  14.3  21.3  \n",
       "2877  0.042807  0.038252   12       4        0  13.4  26.4  \n",
       "2878  0.042389  0.038534   12       5        0  15.5  24.9  \n",
       "\n",
       "[2879 rows x 30 columns]"
      ]
     },
     "execution_count": 2,
     "metadata": {},
     "output_type": "execute_result"
    }
   ],
   "source": [
    "#-------------------------- NO ESCRIBAS LÍNEAS DE CÓDIGO MÁS LARGAS QUE LO QUE OCUPA ESTA LÍNEA -----------------------------|\n",
    "\n",
    "df_aju = pd.read_csv('AJU_DATOS_DEM_C3.csv')\n",
    "\n",
    "# parseamos la fecha (cadena) para que sea un datetime con formato dd/mm/yyyy \n",
    "# esta variable NO se puede utilizar como entrada en los modelos\n",
    "df_aju.FECHA = pd.to_datetime(df_aju.FECHA, format='%d/%m/%Y') \n",
    "s=df_aju.loc[:,'FECHA']\n",
    "df_aju['FECHA'] =  s.dt.date\n",
    "\n",
    "# eliminamos las variables que no se pueden usar como entradas en los modelos\n",
    "del df_aju['ANNO']\n",
    "del df_aju['DIA']\n",
    "\n",
    "print('Tamaño de df_orig con los datos cargados:', df_aju.shape)\n",
    "print('Dataframe con todos los datos leidos (filas: días, columnas: variables):')\n",
    "df_aju"
   ]
  },
  {
   "attachments": {},
   "cell_type": "markdown",
   "id": "336e4e89-e14b-410d-9a81-28d0d7a7a956",
   "metadata": {
    "tags": []
   },
   "source": [
    "Visión general de las series"
   ]
  },
  {
   "cell_type": "code",
   "execution_count": 3,
   "id": "43d40fd1-9c72-4aab-b7b8-f7ffa3ad756c",
   "metadata": {},
   "outputs": [
    {
     "data": {
      "image/png": "[encoded data removed]",
      "text/plain": [
       "<Figure size 1080x432 with 2 Axes>"
      ]
     },
     "metadata": {
      "needs_background": "light"
     },
     "output_type": "display_data"
    },
    {
     "name": "stdout",
     "output_type": "stream",
     "text": [
      "Se observa que el nº de festivos (115) es claramente inferior al nº de laborables (2764)\n",
      "En concreto, el porcentaje de festivos en el conjunto de ajuste es 3.99444251476207 %\n"
     ]
    }
   ],
   "source": [
    "#-------------------------- NO ESCRIBAS LÍNEAS DE CÓDIGO MÁS LARGAS QUE LO QUE OCUPA ESTA LÍNEA -----------------------------|\n",
    "fig = plt.figure(1, figsize=(15,6))\n",
    "ax1 = plt.subplot(2,1,1)\n",
    "\n",
    "ind_festivo = df_aju.FESTIVO == 1\n",
    "\n",
    "plt.plot(df_aju.FECHA, df_aju.CR12, label='CR12')\n",
    "\n",
    "plt.plot(df_aju.FECHA[ind_festivo], df_aju.CR12[ind_festivo], 'sr', label='CR12 festivos')\n",
    "plt.legend()\n",
    "\n",
    "plt.subplot(2,1,2,sharex= ax1)\n",
    "plt.plot(df_aju.FECHA, df_aju.TMAX, label='TMAX')\n",
    "plt.plot(df_aju.FECHA, df_aju.TMIN, label='TMIN')\n",
    "plt.tight_layout()\n",
    "plt.legend()\n",
    "\n",
    "plt.show()\n",
    "\n",
    "num_festivos = np.count_nonzero(df_aju.FESTIVO)\n",
    "num_laborables = df_aju.shape[0] - num_festivos\n",
    "print(f'Se observa que el nº de festivos ({num_festivos}) es claramente inferior al nº de laborables ({num_laborables})')\n",
    "print(f'En concreto, el porcentaje de festivos en el conjunto de ajuste es {100*num_festivos /  df_aju.shape[0]} %')\n",
    "# fig.savefig('figura1.pdf')"
   ]
  },
  {
   "attachments": {},
   "cell_type": "markdown",
   "id": "4b28a3c2",
   "metadata": {},
   "source": [
    "---\n",
    "### 1.1 Análisis exploratorio básico del problema\n",
    "\n",
    "- Incluye un análisis que te permita comprender la naturaleza del problema, cómo son las variables de entrada, su interrelación, así como su relación con la variable de salida\n",
    "- Comenta todo lo que parezca relevante para el tema tratado, incluyendo todas las gráficas que consideres oportunas\n",
    "- Estudia cómo se reparten los festivos según el día de la semana y los meses"
   ]
  },
  {
   "cell_type": "code",
   "execution_count": 4,
   "id": "8d6b222f",
   "metadata": {},
   "outputs": [],
   "source": [
    "#-------------------------- NO ESCRIBAS LÍNEAS DE CÓDIGO MÁS LARGAS QUE LO QUE OCUPA ESTA LÍNEA -----------------------------|\n"
   ]
  },
  {
   "attachments": {},
   "cell_type": "markdown",
   "id": "cddb7885",
   "metadata": {},
   "source": [
    "#### Prepara los conjuntos de entrenamiento y test\n",
    "\n",
    "- Divide los datos disponibles de ajuste (df_aju) en dos conjuntos diferentes (TR:80% y TS: 20%). TS lo deberías de utilizar para validar la calidad de los diferentes modelos que se creen.\n",
    "- Recuerda fijar una semilla para garantizar que la separación es reproducible"
   ]
  },
  {
   "cell_type": "code",
   "execution_count": 5,
   "id": "669733ff",
   "metadata": {},
   "outputs": [],
   "source": [
    "#-------------------------- NO ESCRIBAS LÍNEAS DE CÓDIGO MÁS LARGAS QUE LO QUE OCUPA ESTA LÍNEA -----------------------------|\n",
    "\n",
    "# Crea dos dataframes df_aju_tr y df_aju_ts y trabaja con ellos"
   ]
  },
  {
   "attachments": {},
   "cell_type": "markdown",
   "id": "29eacbaa",
   "metadata": {},
   "source": [
    "#### 1.2. Ajusta un modelo de clasificación sencillo que sea robusto y que pueda servir de referencia de comparación con otros modelos más complejos.\n",
    "\n",
    "- Optimiza la complejidad\n",
    "- Revisa los errores en TR y TS, la matrices de confusión, y verifica la capacidad de generación\n",
    "- Analiza la lógica que emplea para determinar si es festivo\n",
    "- Revisa la importancia de las variables"
   ]
  },
  {
   "cell_type": "code",
   "execution_count": 6,
   "id": "0d64d536",
   "metadata": {},
   "outputs": [],
   "source": [
    "#-------------------------- NO ESCRIBAS LÍNEAS DE CÓDIGO MÁS LARGAS QUE LO QUE OCUPA ESTA LÍNEA -----------------------------|\n"
   ]
  },
  {
   "attachments": {},
   "cell_type": "markdown",
   "id": "03852bf9",
   "metadata": {},
   "source": [
    "#### 1.3. Ajusta un bagged tree para resolver el problema planteado.\n",
    "\n",
    "- Optimiza la complejidad\n",
    "- Revisa los errores en TR y TS, la matrices de confusión, y verifica la capacidad de generación\n",
    "- Revisa la importancia de las variables"
   ]
  },
  {
   "cell_type": "code",
   "execution_count": 7,
   "id": "f248ebbd",
   "metadata": {},
   "outputs": [],
   "source": [
    "#-------------------------- NO ESCRIBAS LÍNEAS DE CÓDIGO MÁS LARGAS QUE LO QUE OCUPA ESTA LÍNEA -----------------------------|\n"
   ]
  },
  {
   "attachments": {},
   "cell_type": "markdown",
   "id": "002cf847",
   "metadata": {},
   "source": [
    "#### 1.4. Ajusta un random forest para resolver el problema planteado.\n",
    "\n",
    "- Optimiza la complejidad\n",
    "- Revisa los errores en TR y TS, la matrices de confusión, y verifica la capacidad de generación\n",
    "- Revisa la importancia de las variables"
   ]
  },
  {
   "cell_type": "code",
   "execution_count": 8,
   "id": "02b7e81d",
   "metadata": {},
   "outputs": [],
   "source": [
    "#-------------------------- NO ESCRIBAS LÍNEAS DE CÓDIGO MÁS LARGAS QUE LO QUE OCUPA ESTA LÍNEA -----------------------------|\n"
   ]
  },
  {
   "attachments": {},
   "cell_type": "markdown",
   "id": "a0f6e259",
   "metadata": {},
   "source": [
    "#### 1.5. Ajusta un gradient boosting para resolver el problema planteado.\n",
    "\n",
    "- Optimiza la complejidad\n",
    "- Revisa los errores en TR y TS, la matrices de confusión, y verifica la capacidad de generación\n",
    "- Revisa la importancia de las variables"
   ]
  },
  {
   "cell_type": "code",
   "execution_count": 9,
   "id": "0e04df7a",
   "metadata": {},
   "outputs": [],
   "source": [
    "#-------------------------- NO ESCRIBAS LÍNEAS DE CÓDIGO MÁS LARGAS QUE LO QUE OCUPA ESTA LÍNEA -----------------------------|\n"
   ]
  },
  {
   "attachments": {},
   "cell_type": "markdown",
   "id": "613d23db",
   "metadata": {},
   "source": [
    "#### 1.6. Utiliza staking con tus mejores tres modelos para intentar mejorar la soluciones obtenidas.\n",
    "- Revisa los errores en TR y TS, la matrices de confusión, y verifica la capacidad de generación"
   ]
  },
  {
   "cell_type": "code",
   "execution_count": 10,
   "id": "3b98421c",
   "metadata": {},
   "outputs": [],
   "source": [
    "#-------------------------- NO ESCRIBAS LÍNEAS DE CÓDIGO MÁS LARGAS QUE LO QUE OCUPA ESTA LÍNEA -----------------------------|\n"
   ]
  },
  {
   "attachments": {},
   "cell_type": "markdown",
   "id": "62bf441c",
   "metadata": {},
   "source": [
    "#### 1.7. Crea un número de variables reducido que contengan la información recogida en las variables CR00 a CR23 y crea un árbol sencillo basado en estas variables.\n",
    "- El conjunto de variables creado tienen que ser una combinación lineal de CR00, ..., CR23\n",
    "- Optimiza la complejidad del árbol\n",
    "- Revisa los errores en TR y TS, la matrices de confusión, y verifica la capacidad de generación\n",
    "- Analiza la lógica que emplea para determinar si es festivo\n",
    "- Revisa la importancia de las variables, explicando el significado físico de las variables más importantes\n",
    "- Compara los errores en TR y TS y la lógica del modelo con el creado anteriormente en el apartado 1.2.\n"
   ]
  },
  {
   "cell_type": "code",
   "execution_count": 11,
   "id": "8b0b6876",
   "metadata": {},
   "outputs": [],
   "source": [
    "#-------------------------- NO ESCRIBAS LÍNEAS DE CÓDIGO MÁS LARGAS QUE LO QUE OCUPA ESTA LÍNEA -----------------------------|\n"
   ]
  },
  {
   "attachments": {},
   "cell_type": "markdown",
   "id": "b3d2a51b",
   "metadata": {},
   "source": [
    "#### 1.8 Compara todos los modelos creados en términos de complejidad, interpretabilidad y errores\n",
    "- Discute el posible impacto que tiene en los modelos el que existan menos festivos que laborables\n",
    "- Compara la complejidad en términos de nº de parámetros y estructura del modelo, variables utilizadas, importancia de las mismas\n",
    "- Compara la capacidad de generalización de los modelos utilizando TS y las diferencias en las matrices de confusión\n",
    "- Estudia la tasa de fallos de los modelos dependiendo del día de la semana\n",
    "- Indica qué modelo o modelos son los más prometedores para poner en producción, justificando la selección"
   ]
  },
  {
   "cell_type": "code",
   "execution_count": 12,
   "id": "66c962a6",
   "metadata": {},
   "outputs": [],
   "source": [
    "#-------------------------- NO ESCRIBAS LÍNEAS DE CÓDIGO MÁS LARGAS QUE LO QUE OCUPA ESTA LÍNEA -----------------------------|\n"
   ]
  },
  {
   "attachments": {},
   "cell_type": "markdown",
   "id": "7685d092",
   "metadata": {},
   "source": [
    "---\n",
    "### 2. VALIDACIÓN FINAL DE LOS MODELOS CON EL DATASET VAL_DATOS_DEM_C3\n",
    "\n",
    "Se correpondería como si los todos los modelos creados anteriormente se ponen en producción el 1 enero de 2022 y se tienen estimando la festividad durante todo el año para ver qué tal funcionan.\n",
    "\n",
    "Recuerda, no se debería ver ningún resultado sobre este dataset hasta haber completado todos los apartados anteriores."
   ]
  },
  {
   "attachments": {},
   "cell_type": "markdown",
   "id": "a06af4fa",
   "metadata": {},
   "source": [
    "Carga datos de validación"
   ]
  },
  {
   "cell_type": "code",
   "execution_count": 13,
   "id": "4ec862eb",
   "metadata": {},
   "outputs": [
    {
     "name": "stdout",
     "output_type": "stream",
     "text": [
      "Tamaño de df_val con los datos cargados: (357, 30)\n",
      "Dataframe con todos los datos leidos (filas: días, columnas: variables):\n",
      "          FECHA      CR00      CR01      CR02      CR03      CR04      CR05  \\\n",
      "0    2022-01-01  0.038935  0.037313  0.035291  0.033673  0.032924  0.033235   \n",
      "1    2022-01-02  0.035271  0.033313  0.031889  0.031411  0.031302  0.031975   \n",
      "2    2022-01-03  0.033756  0.032003  0.030669  0.030051  0.030199  0.031280   \n",
      "3    2022-01-04  0.034484  0.032505  0.031375  0.030540  0.030431  0.031324   \n",
      "4    2022-01-05  0.034669  0.032213  0.030933  0.030382  0.030527  0.031611   \n",
      "..          ...       ...       ...       ...       ...       ...       ...   \n",
      "352  2022-12-27  0.033279  0.031139  0.029907  0.029433  0.029757  0.030972   \n",
      "353  2022-12-28  0.033250  0.031186  0.029934  0.029447  0.029821  0.030942   \n",
      "354  2022-12-29  0.033718  0.031695  0.030290  0.029717  0.030014  0.031075   \n",
      "355  2022-12-30  0.033673  0.031494  0.030124  0.029639  0.029629  0.030732   \n",
      "356  2022-12-31  0.034661  0.032394  0.031029  0.030202  0.030263  0.031111   \n",
      "\n",
      "         CR06      CR07      CR08  ...      CR19      CR20      CR21  \\\n",
      "0    0.034250  0.035303  0.037974  ...  0.051431  0.050366  0.047399   \n",
      "1    0.033854  0.035571  0.039449  ...  0.052162  0.050877  0.047856   \n",
      "2    0.034230  0.037862  0.042149  ...  0.052212  0.051153  0.047885   \n",
      "3    0.034787  0.038767  0.042558  ...  0.052198  0.051378  0.047963   \n",
      "4    0.034651  0.038108  0.041891  ...  0.051285  0.050828  0.048133   \n",
      "..        ...       ...       ...  ...       ...       ...       ...   \n",
      "352  0.034595  0.038379  0.042911  ...  0.052135  0.050948  0.047933   \n",
      "353  0.033929  0.037831  0.042330  ...  0.051762  0.050446  0.047250   \n",
      "354  0.034526  0.038393  0.043134  ...  0.051901  0.050019  0.046786   \n",
      "355  0.033926  0.037799  0.042977  ...  0.052022  0.050441  0.046984   \n",
      "356  0.033522  0.036211  0.040875  ...  0.054531  0.051682  0.046953   \n",
      "\n",
      "         CR22      CR23  MES  DIASEM  FESTIVO  TMIN  TMAX  \n",
      "0    0.043002  0.039327    1       6        1  14.1  25.3  \n",
      "1    0.043245  0.038792    1       7        0  14.5  24.9  \n",
      "2    0.042709  0.038054    1       1        0  11.3  23.8  \n",
      "3    0.043061  0.038486    1       2        0  10.8  23.0  \n",
      "4    0.043639  0.039127    1       3        0  14.7  22.2  \n",
      "..        ...       ...  ...     ...      ...   ...   ...  \n",
      "352  0.042347  0.037164   12       2        0  20.6  23.5  \n",
      "353  0.042042  0.037155   12       3        0  18.7  24.1  \n",
      "354  0.041653  0.037101   12       4        0  18.0  24.6  \n",
      "355  0.042434  0.037864   12       5        0  15.7  24.1  \n",
      "356  0.041553  0.037804   12       6        0  15.3  23.3  \n",
      "\n",
      "[357 rows x 30 columns]\n"
     ]
    }
   ],
   "source": [
    "#--------------------------NO ESCRIBAS LÍNEAS DE CÓDIGO MÁS LARGAS QUE LO QUE OCUPA ESTA LÍNEA -----------------------------|\n",
    "\n",
    "df_val = pd.read_csv('VAL_DATOS_DEM_C3.csv')\n",
    "\n",
    "# parseamos la fecha (cadena) para que sea un datetime con formato dd/mm/yyyy \n",
    "# esta variable NO se puede utilizar como entrada en los modelos\n",
    "df_val.FECHA = pd.to_datetime(df_val.FECHA, format='%d/%m/%Y') \n",
    "s=df_val.loc[:,'FECHA']\n",
    "df_val['FECHA'] =  s.dt.date\n",
    "\n",
    "# eliminamos las variables que no se pueden usar como entradas en los modelos\n",
    "del df_val['ANNO']\n",
    "del df_val['DIA']\n",
    "\n",
    "print('Tamaño de df_val con los datos cargados:', df_val.shape)\n",
    "print('Dataframe con todos los datos leidos (filas: días, columnas: variables):')\n",
    "print(df_val)"
   ]
  },
  {
   "attachments": {},
   "cell_type": "markdown",
   "id": "d065cf5e",
   "metadata": {},
   "source": [
    "#### 2.1. Compara los errores obtenidos en validación con los observados previamente en ajuste/test\n",
    "- Una vez terminados todos los ajustes de los modelos en el apartado 1.1., ejecuta los mismos para estimar si los días de 2022 son festivos o no (conjunto df_val)\n",
    "- Muestra los resultados de clasificación obtenidos en el nuevo dataset (accuray y tablas de confusión de cada modelo)\n",
    "- Discute si los errores obtenidos son coherentes con lo que se esperaba como resultado de los análisis previos para estimar la capacidad de generalización de cada uno de los modelos"
   ]
  },
  {
   "cell_type": "code",
   "execution_count": 14,
   "id": "cf4035ce",
   "metadata": {},
   "outputs": [],
   "source": [
    "#--------------------------NO ESCRIBAS LÍNEAS DE CÓDIGO MÁS LARGAS QUE LO QUE OCUPA ESTA LÍNEA -----------------------------|\n"
   ]
  },
  {
   "attachments": {},
   "cell_type": "markdown",
   "id": "7ce07401",
   "metadata": {},
   "source": [
    "#### 2.2. Análisis de los días peor clasificados\n",
    "- Indica en una tabla la lista de los días que se han clasificado incorrectamente por cada uno de los modelos considerados\n",
    "- Comenta las posibles diferencias y semejanzas, intentando buscar una justificación de por qué ha ocurrido el error de clasificación\n",
    "- Muestra gráficamente los perfiles de 24 horas de los 3 días más difíciles de clasificar para los modelos, comparándolos con lo esperado según el día de la semana correspondiente"
   ]
  },
  {
   "cell_type": "code",
   "execution_count": 15,
   "id": "224113ef",
   "metadata": {},
   "outputs": [],
   "source": [
    "#--------------------------NO ESCRIBAS LÍNEAS DE CÓDIGO MÁS LARGAS QUE LO QUE OCUPA ESTA LÍNEA -----------------------------|\n"
   ]
  }
 ],
 "metadata": {
  "kernelspec": {
   "display_name": "ml",
   "language": "python",
   "name": "python3"
  },
  "language_info": {
   "codemirror_mode": {
    "name": "ipython",
    "version": 3
   },
   "file_extension": ".py",
   "mimetype": "text/x-python",
   "name": "python",
   "nbconvert_exporter": "python",
   "pygments_lexer": "ipython3",
   "version": "3.10.4"
  },
  "vscode": {
   "interpreter": {
    "hash": "00e18884c40e295eb239fd158fe6da90765e2a8014f97c85addc36ea8e1e3d63"
   }
  }
 },
 "nbformat": 4,
 "nbformat_minor": 5
}
